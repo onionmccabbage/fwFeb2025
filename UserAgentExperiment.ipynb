{
 "cells": [
  {
   "cell_type": "code",
   "execution_count": 47,
   "id": "4ee94297-fe35-4953-adc8-5e2e346e9353",
   "metadata": {},
   "outputs": [],
   "source": [
    "from agents import LegislationResearchAgent, SectionListAgent, DocumentDetailsAgent, DefinitionsAgent, ClauseAgent, UserRequirementsAgent\n",
    "\n",
    "# from tqdm.notebook import tqdm # this is a lovely speed-optimizer\n",
    "import pandas as pd\n",
    "from pathlib import Path\n",
    "import pickle\n",
    "import string\n",
    "import html\n",
    "import json"
   ]
  },
  {
   "cell_type": "code",
   "execution_count": 41,
   "id": "a69043ba-1bd7-496a-b621-d278f6fb2fdc",
   "metadata": {},
   "outputs": [],
   "source": [
    "# we can try to generate some useful results\n",
    "def generate(metadata):\n",
    "    # we need an instance of a UserRequirementsAgent\n",
    "    a6 = UserRequirementsAgent(input=metadata) #, history=h5)\n",
    "    # call the run method of this intance\n",
    "    a6.run() # this is an asychronous call - i.e. we wait for the results\n",
    "    # gather just the user agent output\n",
    "    a6_output = a6.get_output()\n",
    "    return a6_output\n",
    "    "
   ]
  },
  {
   "cell_type": "code",
   "execution_count": 42,
   "id": "2fb5a883-4169-4392-8b16-4c22aeb5d5e6",
   "metadata": {},
   "outputs": [],
   "source": [
    "# we may exercise the above code\n",
    "# we need some metadata\n",
    "# read a csv\n",
    "master = pd.read_csv('master.csv')\n",
    "# ...thats your metadata\n",
    "# inject the metadata into our 'generate' function - run it and see any results\n",
    "# master.info()\n",
    "# master"
   ]
  },
  {
   "cell_type": "code",
   "execution_count": null,
   "id": "4ee1035d-ce48-43cc-b906-3e8437522c4a",
   "metadata": {},
   "outputs": [],
   "source": []
  },
  {
   "cell_type": "code",
   "execution_count": 43,
   "id": "e67b8a8d-08fe-4874-8aad-a30ba205c5b2",
   "metadata": {},
   "outputs": [
    {
     "data": {
      "text/html": [
       "<div>\n",
       "<style scoped>\n",
       "    .dataframe tbody tr th:only-of-type {\n",
       "        vertical-align: middle;\n",
       "    }\n",
       "\n",
       "    .dataframe tbody tr th {\n",
       "        vertical-align: top;\n",
       "    }\n",
       "\n",
       "    .dataframe thead th {\n",
       "        text-align: right;\n",
       "    }\n",
       "</style>\n",
       "<table border=\"1\" class=\"dataframe\">\n",
       "  <thead>\n",
       "    <tr style=\"text-align: right;\">\n",
       "      <th></th>\n",
       "      <th>Document Type</th>\n",
       "      <th>Landing Page</th>\n",
       "    </tr>\n",
       "  </thead>\n",
       "  <tbody>\n",
       "    <tr>\n",
       "      <th>0</th>\n",
       "      <td>Service Agreement</td>\n",
       "      <td>master subscription agreement</td>\n",
       "    </tr>\n",
       "    <tr>\n",
       "      <th>1</th>\n",
       "      <td>Service Agreement</td>\n",
       "      <td>professional services contract</td>\n",
       "    </tr>\n",
       "    <tr>\n",
       "      <th>2</th>\n",
       "      <td>Service Agreement</td>\n",
       "      <td>master service agreement</td>\n",
       "    </tr>\n",
       "  </tbody>\n",
       "</table>\n",
       "</div>"
      ],
      "text/plain": [
       "       Document Type                    Landing Page\n",
       "0  Service Agreement   master subscription agreement\n",
       "1  Service Agreement  professional services contract\n",
       "2  Service Agreement        master service agreement"
      ]
     },
     "execution_count": 43,
     "metadata": {},
     "output_type": "execute_result"
    }
   ],
   "source": [
    "landingPages = pd.read_csv('data/landing_pages.csv')\n",
    "landingPages"
   ]
  },
  {
   "cell_type": "code",
   "execution_count": 44,
   "id": "58ab6ea4-6c18-46e1-924f-3adc2c4cc5c9",
   "metadata": {},
   "outputs": [
    {
     "data": {
      "text/plain": [
       "'professional services contract'"
      ]
     },
     "execution_count": 44,
     "metadata": {},
     "output_type": "execute_result"
    }
   ],
   "source": [
    "# pick put one member of the csv we may like to make use of\n",
    "lp = landingPages.loc[1]['Landing Page'] # or [1][1]\n",
    "lp"
   ]
  },
  {
   "cell_type": "code",
   "execution_count": 45,
   "id": "5dba6730-739b-43e4-b698-5b9f054afb89",
   "metadata": {},
   "outputs": [
    {
     "data": {
      "text/plain": [
       "{'language': 'English',\n",
       " 'governing_law': 'United States',\n",
       " 'landing_page': 'professional services contract',\n",
       " 'document_type': 'Service Agreement'}"
      ]
     },
     "execution_count": 45,
     "metadata": {},
     "output_type": "execute_result"
    }
   ],
   "source": [
    "metadata = {\n",
    "        \"language\": \"English\",\n",
    "        \"governing_law\": \"United States\", # or Canada etc.\n",
    "        \"landing_page\": landingPages.loc[1]['Landing Page'],\n",
    "        \"document_type\": landingPages.loc[1]['Document Type']\n",
    "}\n",
    "metadata # this is structured in the way Anthropic likes to see it"
   ]
  },
  {
   "cell_type": "markdown",
   "id": "5f9824ff-e5e2-49c2-b7bb-f88802da0a8a",
   "metadata": {},
   "source": [
    "### Here we call Anthropic (with associated costs)"
   ]
  },
  {
   "cell_type": "code",
   "execution_count": 46,
   "id": "95779e3d-e9f2-4d30-bf83-57f1840fac1d",
   "metadata": {},
   "outputs": [
    {
     "data": {
      "text/plain": [
       "{'raw_response': [{'text': 'Here are two different user requirements for a professional services contract:\\n\\n1. \"I need a professional services contract for my web development company to provide a 6-month website redesign project to a client, starting March 2025, with milestone payments and clear intellectual property rights transfer provisions.\"\\n\\n2. \"Looking to create a simple consulting agreement for providing financial advisory services to small businesses, with monthly retainer payments and a non-compete clause that protects my business interests.\"',\n",
       "   'type': 'text'}],\n",
       " 'requirement_blurbs': ['I need a professional services contract for my web development company to provide a 6-month website redesign project to a client, starting March 2025, with milestone payments and clear intellectual property rights transfer provisions.',\n",
       "  'Looking to create a simple consulting agreement for providing financial advisory services to small businesses, with monthly retainer payments and a non-compete clause that protects my business interests.']}"
      ]
     },
     "execution_count": 46,
     "metadata": {},
     "output_type": "execute_result"
    }
   ],
   "source": [
    "# call Apnthropic (a sample of pipeline step 1)\n",
    "r = generate(metadata) # CAREFUL - there is a cost associated with executing this cell\n",
    "r"
   ]
  },
  {
   "cell_type": "code",
   "execution_count": null,
   "id": "305469d5-1cba-4426-91d4-b6526af28dd1",
   "metadata": {},
   "outputs": [],
   "source": []
  }
 ],
 "metadata": {
  "kernelspec": {
   "display_name": "venv",
   "language": "python",
   "name": "venv"
  },
  "language_info": {
   "codemirror_mode": {
    "name": "ipython",
    "version": 3
   },
   "file_extension": ".py",
   "mimetype": "text/x-python",
   "name": "python",
   "nbconvert_exporter": "python",
   "pygments_lexer": "ipython3",
   "version": "3.13.1"
  }
 },
 "nbformat": 4,
 "nbformat_minor": 5
}
