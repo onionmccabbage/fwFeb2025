{
 "cells": [
  {
   "cell_type": "markdown",
   "id": "6370c561-6378-4b3d-a173-888340c6f349",
   "metadata": {},
   "source": [
    "### Functions and Classes"
   ]
  },
  {
   "cell_type": "code",
   "execution_count": 1,
   "id": "010b495f-e12d-46ed-a960-edabcb112cb8",
   "metadata": {},
   "outputs": [],
   "source": [
    "# NB remember to run all preceding cells"
   ]
  },
  {
   "cell_type": "code",
   "execution_count": null,
   "id": "903bcdb2-0d10-43fd-99f5-37f1db0cdb02",
   "metadata": {},
   "outputs": [],
   "source": []
  },
  {
   "cell_type": "code",
   "execution_count": 5,
   "id": "bc4f82d2-436f-4b1d-acbf-cef9ae47f8c4",
   "metadata": {},
   "outputs": [],
   "source": [
    "# all identifiers (names) can use letters, numbers, underscore\n",
    "# first charactor NOT a digit\n",
    "def myFn(x,y):\n",
    "    '''often we write a docstring to explain the purpose\n",
    "    Here we calculate the hypotenuse of a r-triangle'''\n",
    "    h = (x*x+y*y)**0.5\n",
    "    return h\n",
    "    \n",
    "    \n",
    "    "
   ]
  },
  {
   "cell_type": "code",
   "execution_count": 7,
   "id": "105c8e0a-7c6d-4ce4-871a-6c8570928239",
   "metadata": {},
   "outputs": [
    {
     "data": {
      "text/plain": [
       "float"
      ]
     },
     "execution_count": 7,
     "metadata": {},
     "output_type": "execute_result"
    }
   ],
   "source": [
    "# we may call our function\n",
    "h = myFn(3,4) # we pass positional arguments\n",
    "type(h)"
   ]
  },
  {
   "cell_type": "code",
   "execution_count": 9,
   "id": "361400e9-6514-4d36-91af-69ba9044eb70",
   "metadata": {},
   "outputs": [
    {
     "data": {
      "text/plain": [
       "5.0"
      ]
     },
     "execution_count": 9,
     "metadata": {},
     "output_type": "execute_result"
    }
   ],
   "source": [
    "h = myFn(y=-4,x=-3) # we pass keyword arguments\n",
    "h"
   ]
  },
  {
   "cell_type": "code",
   "execution_count": 19,
   "id": "8f0a5dd7-9f3c-4c72-a07f-a2201f50035b",
   "metadata": {},
   "outputs": [
    {
     "name": "stdout",
     "output_type": "stream",
     "text": [
      "<class 'tuple'> (30, 40)\n",
      "50.0\n"
     ]
    }
   ],
   "source": [
    "def usePositional(*args): # the asterisk gathers the arguents together into this tuple\n",
    "    '''every function will gather its positional arguments into a tuple'''\n",
    "    print(type(args), args)\n",
    "    # if we have no positional aguments, we will print something\n",
    "    if len(args) == 0:\n",
    "        print('nothing to see here')\n",
    "    elif len(args)==1:\n",
    "        print(f'We have {args[0]} of type {type(args[0])}')\n",
    "    elif len(args)==2:\n",
    "        h = myFn(args[0], args[1])\n",
    "        print(h)\n",
    "    else:\n",
    "        print('also')\n",
    "\n",
    "usePositional(30, 40)"
   ]
  },
  {
   "cell_type": "code",
   "execution_count": 21,
   "id": "cc51841a-2646-4e00-8f75-aa6db0a93700",
   "metadata": {},
   "outputs": [
    {
     "name": "stdout",
     "output_type": "stream",
     "text": [
      "<class 'tuple'> (3, 4)\n",
      "5.0\n"
     ]
    }
   ],
   "source": [
    "t = (3,4)\n",
    "usePositional(*t) # here the asterisk is spreading out the members of the tuple"
   ]
  },
  {
   "cell_type": "code",
   "execution_count": 22,
   "id": "e0f68e6d-3522-406a-b5b7-d819eb70d5fe",
   "metadata": {},
   "outputs": [
    {
     "name": "stdout",
     "output_type": "stream",
     "text": [
      "<class 'dict'> {'title': 'information', 'desc': 'stuff of interest', 'dt': '4 Feb 2025'}\n"
     ]
    }
   ],
   "source": [
    "# a double asterisk works the same, but for keyword arguments\n",
    "def useKW(**kwargs):\n",
    "    '''all keyword arguments will be gathered into a dict call kwargs'''\n",
    "    print(type(kwargs), kwargs)\n",
    "\n",
    "useKW(title='information', desc='stuff of interest', dt='4 Feb 2025')"
   ]
  },
  {
   "cell_type": "code",
   "execution_count": 23,
   "id": "3906ddff-1241-4894-bda8-6e2bd42eb971",
   "metadata": {},
   "outputs": [
    {
     "name": "stdout",
     "output_type": "stream",
     "text": [
      "<class 'dict'> {'t': 'A', 'i': None, 'd': '.....', 'dt': '30 Jan 2025'}\n"
     ]
    }
   ],
   "source": [
    "# we may spread dictionary members using **\n",
    "d = {'t':'A', 'i':None, 'd':'.....', 'dt':'30 Jan 2025'}\n",
    "useKW(**d) # the values of d will be unpacked to provide the keyword arguments to our function"
   ]
  },
  {
   "cell_type": "code",
   "execution_count": 24,
   "id": "06d76327-56ef-4171-9320-4e70de0ab0db",
   "metadata": {},
   "outputs": [],
   "source": [
    "# NB in functions all positional arguments must preceed any keyword arguments\n",
    "h = myFn(3, y=4) # the value of x is a positional, followed by ay as as keyword argument"
   ]
  },
  {
   "cell_type": "code",
   "execution_count": 29,
   "id": "88703212-10bf-4fbd-b7b6-01e9287930e1",
   "metadata": {},
   "outputs": [],
   "source": [
    "# Validating data for sanity\n",
    "def handleStuff(role, add_to_hist):\n",
    "    '''validate the incoming arguments'''\n",
    "    if type(role)==str and role !='':\n",
    "        # all good, carry on\n",
    "        print('role is acceptable')\n",
    "    else:\n",
    "        # we may just apply a sensible default\n",
    "        role = 'default'\n",
    "        print(role)\n",
    "    if type(add_to_hist)==bool:\n",
    "        print('type is good')\n",
    "    else:\n",
    "        # we may raise any kind of exception whenever and wherever we choose\n",
    "        raise TypeError('We need a boolean')"
   ]
  },
  {
   "cell_type": "code",
   "execution_count": 31,
   "id": "138ede5b-6e1e-40f7-a26e-ba64f5419397",
   "metadata": {},
   "outputs": [
    {
     "name": "stdout",
     "output_type": "stream",
     "text": [
      "role is acceptable\n"
     ]
    },
    {
     "ename": "TypeError",
     "evalue": "We need a boolean",
     "output_type": "error",
     "traceback": [
      "\u001b[1;31m---------------------------------------------------------------------------\u001b[0m",
      "\u001b[1;31mTypeError\u001b[0m                                 Traceback (most recent call last)",
      "Cell \u001b[1;32mIn[31], line 2\u001b[0m\n\u001b[0;32m      1\u001b[0m \u001b[38;5;66;03m# exercise the code\u001b[39;00m\n\u001b[1;32m----> 2\u001b[0m r \u001b[38;5;241m=\u001b[39m \u001b[43mhandleStuff\u001b[49m\u001b[43m(\u001b[49m\u001b[38;5;124;43m'\u001b[39;49m\u001b[38;5;124;43mcoffee drinker\u001b[39;49m\u001b[38;5;124;43m'\u001b[39;49m\u001b[43m,\u001b[49m\u001b[43m \u001b[49m\u001b[38;5;124;43m'\u001b[39;49m\u001b[38;5;124;43moops\u001b[39;49m\u001b[38;5;124;43m'\u001b[39;49m\u001b[43m)\u001b[49m\n",
      "Cell \u001b[1;32mIn[29], line 14\u001b[0m, in \u001b[0;36mhandleStuff\u001b[1;34m(role, add_to_hist)\u001b[0m\n\u001b[0;32m     12\u001b[0m     \u001b[38;5;28mprint\u001b[39m(\u001b[38;5;124m'\u001b[39m\u001b[38;5;124mtype is good\u001b[39m\u001b[38;5;124m'\u001b[39m)\n\u001b[0;32m     13\u001b[0m \u001b[38;5;28;01melse\u001b[39;00m:\n\u001b[1;32m---> 14\u001b[0m     \u001b[38;5;28;01mraise\u001b[39;00m \u001b[38;5;167;01mTypeError\u001b[39;00m(\u001b[38;5;124m'\u001b[39m\u001b[38;5;124mWe need a boolean\u001b[39m\u001b[38;5;124m'\u001b[39m)\n",
      "\u001b[1;31mTypeError\u001b[0m: We need a boolean"
     ]
    }
   ],
   "source": [
    "# exercise the code\n",
    "r = handleStuff('coffee drinker', 'oops')"
   ]
  },
  {
   "cell_type": "code",
   "execution_count": null,
   "id": "f5ed20fb-3e82-4e32-89d3-7a83b54004b5",
   "metadata": {},
   "outputs": [],
   "source": []
  }
 ],
 "metadata": {
  "kernelspec": {
   "display_name": "venv",
   "language": "python",
   "name": "venv"
  },
  "language_info": {
   "codemirror_mode": {
    "name": "ipython",
    "version": 3
   },
   "file_extension": ".py",
   "mimetype": "text/x-python",
   "name": "python",
   "nbconvert_exporter": "python",
   "pygments_lexer": "ipython3",
   "version": "3.13.1"
  }
 },
 "nbformat": 4,
 "nbformat_minor": 5
}
