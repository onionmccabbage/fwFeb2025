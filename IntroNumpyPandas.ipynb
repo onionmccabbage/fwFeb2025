{
 "cells": [
  {
   "cell_type": "markdown",
   "id": "2ef4e8a5-0c8b-44fc-805e-b9670169c0a3",
   "metadata": {},
   "source": [
    "## Working with Numpy and Pandas"
   ]
  },
  {
   "cell_type": "code",
   "execution_count": 1,
   "id": "71c69718-e0bf-4f28-a823-9cb3196fca54",
   "metadata": {},
   "outputs": [],
   "source": [
    "# we usually import the necessary stuff right at the top\n",
    "import numpy as np\n",
    "import pandas as pd"
   ]
  },
  {
   "cell_type": "code",
   "execution_count": 2,
   "id": "f2c7480a-61d2-4c0d-b7ed-87448fefabf3",
   "metadata": {},
   "outputs": [],
   "source": [
    "# we can load up any csv like this\n",
    "lp = pd.read_csv('data/landing_pages.csv') # this might be a URL"
   ]
  },
  {
   "cell_type": "code",
   "execution_count": 4,
   "id": "550a1c17-95fb-4b72-bfbb-b60c09616e04",
   "metadata": {},
   "outputs": [
    {
     "name": "stdout",
     "output_type": "stream",
     "text": [
      "<class 'pandas.core.frame.DataFrame'>\n",
      "RangeIndex: 3 entries, 0 to 2\n",
      "Data columns (total 2 columns):\n",
      " #   Column         Non-Null Count  Dtype \n",
      "---  ------         --------------  ----- \n",
      " 0   Document Type  3 non-null      object\n",
      " 1   Landing Page   3 non-null      object\n",
      "dtypes: object(2)\n",
      "memory usage: 180.0+ bytes\n"
     ]
    }
   ],
   "source": [
    "lp.info() # we have a DataFame"
   ]
  },
  {
   "cell_type": "markdown",
   "id": "8109267a-4052-4419-8c44-91f3f1043209",
   "metadata": {},
   "source": [
    "### DataFrame (part of Pandas)\n",
    "Rather like an Excel spreasheet, but rows are 0, 1, 2 \n",
    "Each column may only contain a SINGLE data type (Dtypes)\n"
   ]
  },
  {
   "cell_type": "code",
   "execution_count": 6,
   "id": "94e8cb85-6d94-4ff8-a2f1-23fed8b5e8b5",
   "metadata": {},
   "outputs": [
    {
     "data": {
      "text/html": [
       "<div>\n",
       "<style scoped>\n",
       "    .dataframe tbody tr th:only-of-type {\n",
       "        vertical-align: middle;\n",
       "    }\n",
       "\n",
       "    .dataframe tbody tr th {\n",
       "        vertical-align: top;\n",
       "    }\n",
       "\n",
       "    .dataframe thead th {\n",
       "        text-align: right;\n",
       "    }\n",
       "</style>\n",
       "<table border=\"1\" class=\"dataframe\">\n",
       "  <thead>\n",
       "    <tr style=\"text-align: right;\">\n",
       "      <th></th>\n",
       "      <th>Document Type</th>\n",
       "      <th>Landing Page</th>\n",
       "    </tr>\n",
       "  </thead>\n",
       "  <tbody>\n",
       "    <tr>\n",
       "      <th>count</th>\n",
       "      <td>3</td>\n",
       "      <td>3</td>\n",
       "    </tr>\n",
       "    <tr>\n",
       "      <th>unique</th>\n",
       "      <td>1</td>\n",
       "      <td>3</td>\n",
       "    </tr>\n",
       "    <tr>\n",
       "      <th>top</th>\n",
       "      <td>Service Agreement</td>\n",
       "      <td>master subscription agreement</td>\n",
       "    </tr>\n",
       "    <tr>\n",
       "      <th>freq</th>\n",
       "      <td>3</td>\n",
       "      <td>1</td>\n",
       "    </tr>\n",
       "  </tbody>\n",
       "</table>\n",
       "</div>"
      ],
      "text/plain": [
       "            Document Type                   Landing Page\n",
       "count                   3                              3\n",
       "unique                  1                              3\n",
       "top     Service Agreement  master subscription agreement\n",
       "freq                    3                              1"
      ]
     },
     "execution_count": 6,
     "metadata": {},
     "output_type": "execute_result"
    }
   ],
   "source": [
    "lp.describe()"
   ]
  },
  {
   "cell_type": "code",
   "execution_count": 8,
   "id": "783dc998-7c1b-4a39-a431-7ea0810b46cb",
   "metadata": {},
   "outputs": [
    {
     "data": {
      "text/plain": [
       "0     master subscription agreement\n",
       "1    professional services contract\n",
       "2          master service agreement\n",
       "Name: Landing Page, dtype: object"
      ]
     },
     "execution_count": 8,
     "metadata": {},
     "output_type": "execute_result"
    }
   ],
   "source": [
    "# we may use slicing to access parts of the DataFrame\n",
    "lp['Document Type']\n",
    "lp['Landing Page']# a slice of one column"
   ]
  },
  {
   "cell_type": "code",
   "execution_count": 10,
   "id": "e8c1f7a6-ccd0-49ce-a5e0-792212ce590b",
   "metadata": {},
   "outputs": [
    {
     "data": {
      "text/html": [
       "<div>\n",
       "<style scoped>\n",
       "    .dataframe tbody tr th:only-of-type {\n",
       "        vertical-align: middle;\n",
       "    }\n",
       "\n",
       "    .dataframe tbody tr th {\n",
       "        vertical-align: top;\n",
       "    }\n",
       "\n",
       "    .dataframe thead th {\n",
       "        text-align: right;\n",
       "    }\n",
       "</style>\n",
       "<table border=\"1\" class=\"dataframe\">\n",
       "  <thead>\n",
       "    <tr style=\"text-align: right;\">\n",
       "      <th></th>\n",
       "      <th>Landing Page</th>\n",
       "      <th>Document Type</th>\n",
       "      <th>Document Type</th>\n",
       "    </tr>\n",
       "  </thead>\n",
       "  <tbody>\n",
       "    <tr>\n",
       "      <th>0</th>\n",
       "      <td>master subscription agreement</td>\n",
       "      <td>Service Agreement</td>\n",
       "      <td>Service Agreement</td>\n",
       "    </tr>\n",
       "    <tr>\n",
       "      <th>1</th>\n",
       "      <td>professional services contract</td>\n",
       "      <td>Service Agreement</td>\n",
       "      <td>Service Agreement</td>\n",
       "    </tr>\n",
       "    <tr>\n",
       "      <th>2</th>\n",
       "      <td>master service agreement</td>\n",
       "      <td>Service Agreement</td>\n",
       "      <td>Service Agreement</td>\n",
       "    </tr>\n",
       "  </tbody>\n",
       "</table>\n",
       "</div>"
      ],
      "text/plain": [
       "                     Landing Page      Document Type      Document Type\n",
       "0   master subscription agreement  Service Agreement  Service Agreement\n",
       "1  professional services contract  Service Agreement  Service Agreement\n",
       "2        master service agreement  Service Agreement  Service Agreement"
      ]
     },
     "execution_count": 10,
     "metadata": {},
     "output_type": "execute_result"
    }
   ],
   "source": [
    "# slicing lets us pick more than one column to show\n",
    "lp[['Landing Page', 'Document Type']] # a slice showing more than one column MUST be in a list"
   ]
  },
  {
   "cell_type": "code",
   "execution_count": 11,
   "id": "37d7c417-7fda-4430-bcd3-8708048dbc6e",
   "metadata": {},
   "outputs": [
    {
     "data": {
      "text/html": [
       "<div>\n",
       "<style scoped>\n",
       "    .dataframe tbody tr th:only-of-type {\n",
       "        vertical-align: middle;\n",
       "    }\n",
       "\n",
       "    .dataframe tbody tr th {\n",
       "        vertical-align: top;\n",
       "    }\n",
       "\n",
       "    .dataframe thead th {\n",
       "        text-align: right;\n",
       "    }\n",
       "</style>\n",
       "<table border=\"1\" class=\"dataframe\">\n",
       "  <thead>\n",
       "    <tr style=\"text-align: right;\">\n",
       "      <th></th>\n",
       "      <th>Landing Page</th>\n",
       "      <th>Document Type</th>\n",
       "    </tr>\n",
       "  </thead>\n",
       "  <tbody>\n",
       "    <tr>\n",
       "      <th>0</th>\n",
       "      <td>master subscription agreement</td>\n",
       "      <td>Service Agreement</td>\n",
       "    </tr>\n",
       "    <tr>\n",
       "      <th>1</th>\n",
       "      <td>professional services contract</td>\n",
       "      <td>Service Agreement</td>\n",
       "    </tr>\n",
       "    <tr>\n",
       "      <th>2</th>\n",
       "      <td>master service agreement</td>\n",
       "      <td>Service Agreement</td>\n",
       "    </tr>\n",
       "  </tbody>\n",
       "</table>\n",
       "</div>"
      ],
      "text/plain": [
       "                     Landing Page      Document Type\n",
       "0   master subscription agreement  Service Agreement\n",
       "1  professional services contract  Service Agreement\n",
       "2        master service agreement  Service Agreement"
      ]
     },
     "execution_count": 11,
     "metadata": {},
     "output_type": "execute_result"
    }
   ],
   "source": [
    "whichColumns = ['Landing Page', 'Document Type'] # we have a list\n",
    "lp[whichColumns]"
   ]
  },
  {
   "cell_type": "markdown",
   "id": "c2793d71-13db-4476-a371-7890d93c85e7",
   "metadata": {},
   "source": [
    "### Challenge\n",
    "* read the define_links.csv file into a DataFame\n",
    "* see the .info()\n",
    "* show just the slug column\n",
    "* show the title and slug columns"
   ]
  },
  {
   "cell_type": "code",
   "execution_count": 12,
   "id": "e9a59d65-35e8-48c8-9d84-80d04c6a47b6",
   "metadata": {},
   "outputs": [],
   "source": [
    "defLinks = pd.read_csv('data/define_links.csv')"
   ]
  },
  {
   "cell_type": "code",
   "execution_count": 13,
   "id": "dd8aacc3-6b8d-4776-b4f8-88688fbb1c2f",
   "metadata": {},
   "outputs": [
    {
     "name": "stdout",
     "output_type": "stream",
     "text": [
      "<class 'pandas.core.frame.DataFrame'>\n",
      "RangeIndex: 3077 entries, 0 to 3076\n",
      "Data columns (total 3 columns):\n",
      " #   Column  Non-Null Count  Dtype \n",
      "---  ------  --------------  ----- \n",
      " 0   Slug    3077 non-null   object\n",
      " 1   Title   3077 non-null   object\n",
      " 2   URL     3077 non-null   object\n",
      "dtypes: object(3)\n",
      "memory usage: 72.2+ KB\n"
     ]
    }
   ],
   "source": [
    "defLinks.info()"
   ]
  },
  {
   "cell_type": "code",
   "execution_count": 15,
   "id": "80d8d2fa-62b2-4508-a5b6-235c67951201",
   "metadata": {},
   "outputs": [
    {
     "data": {
      "text/plain": [
       "0                       facts-in-issue\n",
       "1                     offshore-project\n",
       "2                      employers-share\n",
       "3                     retail-liability\n",
       "4                  debt-to-value-ratio\n",
       "                     ...              \n",
       "3072                          accounts\n",
       "3073               academic-supervisor\n",
       "3074              academic-publication\n",
       "3075    academic-and-research-purposes\n",
       "3076                       fiscal-year\n",
       "Name: Slug, Length: 3077, dtype: object"
      ]
     },
     "execution_count": 15,
     "metadata": {},
     "output_type": "execute_result"
    }
   ],
   "source": [
    "defLinks['Slug'] # careful - case sensitive"
   ]
  },
  {
   "cell_type": "code",
   "execution_count": 16,
   "id": "a96b671b-43bd-4dfc-86dd-e796f5f54e87",
   "metadata": {},
   "outputs": [
    {
     "data": {
      "text/html": [
       "<div>\n",
       "<style scoped>\n",
       "    .dataframe tbody tr th:only-of-type {\n",
       "        vertical-align: middle;\n",
       "    }\n",
       "\n",
       "    .dataframe tbody tr th {\n",
       "        vertical-align: top;\n",
       "    }\n",
       "\n",
       "    .dataframe thead th {\n",
       "        text-align: right;\n",
       "    }\n",
       "</style>\n",
       "<table border=\"1\" class=\"dataframe\">\n",
       "  <thead>\n",
       "    <tr style=\"text-align: right;\">\n",
       "      <th></th>\n",
       "      <th>Title</th>\n",
       "      <th>Slug</th>\n",
       "    </tr>\n",
       "  </thead>\n",
       "  <tbody>\n",
       "    <tr>\n",
       "      <th>0</th>\n",
       "      <td>facts in issue</td>\n",
       "      <td>facts-in-issue</td>\n",
       "    </tr>\n",
       "    <tr>\n",
       "      <th>1</th>\n",
       "      <td>offshore project</td>\n",
       "      <td>offshore-project</td>\n",
       "    </tr>\n",
       "    <tr>\n",
       "      <th>2</th>\n",
       "      <td>employers share</td>\n",
       "      <td>employers-share</td>\n",
       "    </tr>\n",
       "    <tr>\n",
       "      <th>3</th>\n",
       "      <td>retail liability</td>\n",
       "      <td>retail-liability</td>\n",
       "    </tr>\n",
       "    <tr>\n",
       "      <th>4</th>\n",
       "      <td>debt to value ratio</td>\n",
       "      <td>debt-to-value-ratio</td>\n",
       "    </tr>\n",
       "    <tr>\n",
       "      <th>...</th>\n",
       "      <td>...</td>\n",
       "      <td>...</td>\n",
       "    </tr>\n",
       "    <tr>\n",
       "      <th>3072</th>\n",
       "      <td>accounts</td>\n",
       "      <td>accounts</td>\n",
       "    </tr>\n",
       "    <tr>\n",
       "      <th>3073</th>\n",
       "      <td>academic supervisor</td>\n",
       "      <td>academic-supervisor</td>\n",
       "    </tr>\n",
       "    <tr>\n",
       "      <th>3074</th>\n",
       "      <td>academic publication</td>\n",
       "      <td>academic-publication</td>\n",
       "    </tr>\n",
       "    <tr>\n",
       "      <th>3075</th>\n",
       "      <td>academic and research purposes</td>\n",
       "      <td>academic-and-research-purposes</td>\n",
       "    </tr>\n",
       "    <tr>\n",
       "      <th>3076</th>\n",
       "      <td>fiscal year</td>\n",
       "      <td>fiscal-year</td>\n",
       "    </tr>\n",
       "  </tbody>\n",
       "</table>\n",
       "<p>3077 rows × 2 columns</p>\n",
       "</div>"
      ],
      "text/plain": [
       "                               Title                            Slug\n",
       "0                     facts in issue                  facts-in-issue\n",
       "1                   offshore project                offshore-project\n",
       "2                    employers share                 employers-share\n",
       "3                   retail liability                retail-liability\n",
       "4                debt to value ratio             debt-to-value-ratio\n",
       "...                              ...                             ...\n",
       "3072                        accounts                        accounts\n",
       "3073             academic supervisor             academic-supervisor\n",
       "3074            academic publication            academic-publication\n",
       "3075  academic and research purposes  academic-and-research-purposes\n",
       "3076                     fiscal year                     fiscal-year\n",
       "\n",
       "[3077 rows x 2 columns]"
      ]
     },
     "execution_count": 16,
     "metadata": {},
     "output_type": "execute_result"
    }
   ],
   "source": [
    "cols = ['Title','Slug']\n",
    "defLinks[cols]"
   ]
  },
  {
   "cell_type": "code",
   "execution_count": 29,
   "id": "faf8716e-bbad-4d1b-8673-e9eb08abe00b",
   "metadata": {},
   "outputs": [
    {
     "data": {
      "text/html": [
       "<div>\n",
       "<style scoped>\n",
       "    .dataframe tbody tr th:only-of-type {\n",
       "        vertical-align: middle;\n",
       "    }\n",
       "\n",
       "    .dataframe tbody tr th {\n",
       "        vertical-align: top;\n",
       "    }\n",
       "\n",
       "    .dataframe thead th {\n",
       "        text-align: right;\n",
       "    }\n",
       "</style>\n",
       "<table border=\"1\" class=\"dataframe\">\n",
       "  <thead>\n",
       "    <tr style=\"text-align: right;\">\n",
       "      <th></th>\n",
       "      <th>Slug</th>\n",
       "      <th>Title</th>\n",
       "      <th>URL</th>\n",
       "    </tr>\n",
       "  </thead>\n",
       "  <tbody>\n",
       "    <tr>\n",
       "      <th>0</th>\n",
       "      <td>facts-in-issue</td>\n",
       "      <td>facts in issue</td>\n",
       "      <td>https://www.genieai.co/en-us/define/facts-in-i...</td>\n",
       "    </tr>\n",
       "    <tr>\n",
       "      <th>1</th>\n",
       "      <td>offshore-project</td>\n",
       "      <td>offshore project</td>\n",
       "      <td>https://www.genieai.co/en-us/define/offshore-p...</td>\n",
       "    </tr>\n",
       "    <tr>\n",
       "      <th>2</th>\n",
       "      <td>employers-share</td>\n",
       "      <td>employers share</td>\n",
       "      <td>https://www.genieai.co/en-us/define/employers-...</td>\n",
       "    </tr>\n",
       "    <tr>\n",
       "      <th>3</th>\n",
       "      <td>retail-liability</td>\n",
       "      <td>retail liability</td>\n",
       "      <td>https://www.genieai.co/en-us/define/retail-lia...</td>\n",
       "    </tr>\n",
       "    <tr>\n",
       "      <th>4</th>\n",
       "      <td>debt-to-value-ratio</td>\n",
       "      <td>debt to value ratio</td>\n",
       "      <td>https://www.genieai.co/en-us/define/debt-to-va...</td>\n",
       "    </tr>\n",
       "    <tr>\n",
       "      <th>...</th>\n",
       "      <td>...</td>\n",
       "      <td>...</td>\n",
       "      <td>...</td>\n",
       "    </tr>\n",
       "    <tr>\n",
       "      <th>3072</th>\n",
       "      <td>accounts</td>\n",
       "      <td>accounts</td>\n",
       "      <td>https://www.genieai.co/en-us/define/accounts</td>\n",
       "    </tr>\n",
       "    <tr>\n",
       "      <th>3073</th>\n",
       "      <td>academic-supervisor</td>\n",
       "      <td>academic supervisor</td>\n",
       "      <td>https://www.genieai.co/en-us/define/academic-s...</td>\n",
       "    </tr>\n",
       "    <tr>\n",
       "      <th>3074</th>\n",
       "      <td>academic-publication</td>\n",
       "      <td>academic publication</td>\n",
       "      <td>https://www.genieai.co/en-us/define/academic-p...</td>\n",
       "    </tr>\n",
       "    <tr>\n",
       "      <th>3075</th>\n",
       "      <td>academic-and-research-purposes</td>\n",
       "      <td>academic and research purposes</td>\n",
       "      <td>https://www.genieai.co/en-us/define/academic-a...</td>\n",
       "    </tr>\n",
       "    <tr>\n",
       "      <th>3076</th>\n",
       "      <td>fiscal-year</td>\n",
       "      <td>fiscal year</td>\n",
       "      <td>https://www.genieai.co/en-us/define/fiscal-year</td>\n",
       "    </tr>\n",
       "  </tbody>\n",
       "</table>\n",
       "<p>3077 rows × 3 columns</p>\n",
       "</div>"
      ],
      "text/plain": [
       "                                Slug                           Title  \\\n",
       "0                     facts-in-issue                  facts in issue   \n",
       "1                   offshore-project                offshore project   \n",
       "2                    employers-share                 employers share   \n",
       "3                   retail-liability                retail liability   \n",
       "4                debt-to-value-ratio             debt to value ratio   \n",
       "...                              ...                             ...   \n",
       "3072                        accounts                        accounts   \n",
       "3073             academic-supervisor             academic supervisor   \n",
       "3074            academic-publication            academic publication   \n",
       "3075  academic-and-research-purposes  academic and research purposes   \n",
       "3076                     fiscal-year                     fiscal year   \n",
       "\n",
       "                                                    URL  \n",
       "0     https://www.genieai.co/en-us/define/facts-in-i...  \n",
       "1     https://www.genieai.co/en-us/define/offshore-p...  \n",
       "2     https://www.genieai.co/en-us/define/employers-...  \n",
       "3     https://www.genieai.co/en-us/define/retail-lia...  \n",
       "4     https://www.genieai.co/en-us/define/debt-to-va...  \n",
       "...                                                 ...  \n",
       "3072       https://www.genieai.co/en-us/define/accounts  \n",
       "3073  https://www.genieai.co/en-us/define/academic-s...  \n",
       "3074  https://www.genieai.co/en-us/define/academic-p...  \n",
       "3075  https://www.genieai.co/en-us/define/academic-a...  \n",
       "3076    https://www.genieai.co/en-us/define/fiscal-year  \n",
       "\n",
       "[3077 rows x 3 columns]"
      ]
     },
     "execution_count": 29,
     "metadata": {},
     "output_type": "execute_result"
    }
   ],
   "source": [
    "defLinks"
   ]
  },
  {
   "cell_type": "code",
   "execution_count": 30,
   "id": "f2396594-894d-497a-8be0-2d6fd9a00cc4",
   "metadata": {},
   "outputs": [
    {
     "data": {
      "text/plain": [
       "'https://www.genieai.co/en-us/define/effective-termination-date'"
      ]
     },
     "execution_count": 30,
     "metadata": {},
     "output_type": "execute_result"
    }
   ],
   "source": [
    "defLinks['URL'][2985] # slide a particular row number"
   ]
  },
  {
   "cell_type": "code",
   "execution_count": 31,
   "id": "dd082968-f1fd-4ebd-8a77-0bc0a8752f35",
   "metadata": {},
   "outputs": [
    {
     "data": {
      "text/plain": [
       "Slug                                       employers-share\n",
       "Title                                      employers share\n",
       "URL      https://www.genieai.co/en-us/define/employers-...\n",
       "Name: 2, dtype: object"
      ]
     },
     "execution_count": 31,
     "metadata": {},
     "output_type": "execute_result"
    }
   ],
   "source": [
    "defLinks.loc[2] # locate a row by its index name"
   ]
  },
  {
   "cell_type": "code",
   "execution_count": 32,
   "id": "16514a17-9ba6-4f79-ad6b-73c10f2d9b93",
   "metadata": {},
   "outputs": [
    {
     "data": {
      "text/plain": [
       "Slug                                       employers-share\n",
       "Title                                      employers share\n",
       "URL      https://www.genieai.co/en-us/define/employers-...\n",
       "Name: 2, dtype: object"
      ]
     },
     "execution_count": 32,
     "metadata": {},
     "output_type": "execute_result"
    }
   ],
   "source": [
    "defLinks.iloc[2] # locates a row by its underlying index number"
   ]
  },
  {
   "cell_type": "code",
   "execution_count": 34,
   "id": "0f808975-2b8c-48bd-8a6c-9131462c0c62",
   "metadata": {},
   "outputs": [
    {
     "data": {
      "text/html": [
       "<div>\n",
       "<style scoped>\n",
       "    .dataframe tbody tr th:only-of-type {\n",
       "        vertical-align: middle;\n",
       "    }\n",
       "\n",
       "    .dataframe tbody tr th {\n",
       "        vertical-align: top;\n",
       "    }\n",
       "\n",
       "    .dataframe thead th {\n",
       "        text-align: right;\n",
       "    }\n",
       "</style>\n",
       "<table border=\"1\" class=\"dataframe\">\n",
       "  <thead>\n",
       "    <tr style=\"text-align: right;\">\n",
       "      <th></th>\n",
       "      <th>Slug</th>\n",
       "      <th>Title</th>\n",
       "      <th>URL</th>\n",
       "    </tr>\n",
       "  </thead>\n",
       "  <tbody>\n",
       "    <tr>\n",
       "      <th>3065</th>\n",
       "      <td>agreement-manager</td>\n",
       "      <td>agreement manager</td>\n",
       "      <td>https://www.genieai.co/en-us/define/agreement-...</td>\n",
       "    </tr>\n",
       "    <tr>\n",
       "      <th>3066</th>\n",
       "      <td>agreement</td>\n",
       "      <td>agreement</td>\n",
       "      <td>https://www.genieai.co/en-us/define/agreement</td>\n",
       "    </tr>\n",
       "    <tr>\n",
       "      <th>3067</th>\n",
       "      <td>affiliate</td>\n",
       "      <td>affiliate</td>\n",
       "      <td>https://www.genieai.co/en-us/define/affiliate</td>\n",
       "    </tr>\n",
       "    <tr>\n",
       "      <th>3068</th>\n",
       "      <td>adequate-procedures</td>\n",
       "      <td>adequate procedures</td>\n",
       "      <td>https://www.genieai.co/en-us/define/adequate-p...</td>\n",
       "    </tr>\n",
       "    <tr>\n",
       "      <th>3069</th>\n",
       "      <td>act-of-insolvency</td>\n",
       "      <td>act of insolvency</td>\n",
       "      <td>https://www.genieai.co/en-us/define/act-of-ins...</td>\n",
       "    </tr>\n",
       "    <tr>\n",
       "      <th>3070</th>\n",
       "      <td>act</td>\n",
       "      <td>act</td>\n",
       "      <td>https://www.genieai.co/en-us/define/act</td>\n",
       "    </tr>\n",
       "    <tr>\n",
       "      <th>3071</th>\n",
       "      <td>accounts-date</td>\n",
       "      <td>accounts date</td>\n",
       "      <td>https://www.genieai.co/en-us/define/accounts-date</td>\n",
       "    </tr>\n",
       "    <tr>\n",
       "      <th>3072</th>\n",
       "      <td>accounts</td>\n",
       "      <td>accounts</td>\n",
       "      <td>https://www.genieai.co/en-us/define/accounts</td>\n",
       "    </tr>\n",
       "    <tr>\n",
       "      <th>3073</th>\n",
       "      <td>academic-supervisor</td>\n",
       "      <td>academic supervisor</td>\n",
       "      <td>https://www.genieai.co/en-us/define/academic-s...</td>\n",
       "    </tr>\n",
       "    <tr>\n",
       "      <th>3074</th>\n",
       "      <td>academic-publication</td>\n",
       "      <td>academic publication</td>\n",
       "      <td>https://www.genieai.co/en-us/define/academic-p...</td>\n",
       "    </tr>\n",
       "    <tr>\n",
       "      <th>3075</th>\n",
       "      <td>academic-and-research-purposes</td>\n",
       "      <td>academic and research purposes</td>\n",
       "      <td>https://www.genieai.co/en-us/define/academic-a...</td>\n",
       "    </tr>\n",
       "    <tr>\n",
       "      <th>3076</th>\n",
       "      <td>fiscal-year</td>\n",
       "      <td>fiscal year</td>\n",
       "      <td>https://www.genieai.co/en-us/define/fiscal-year</td>\n",
       "    </tr>\n",
       "  </tbody>\n",
       "</table>\n",
       "</div>"
      ],
      "text/plain": [
       "                                Slug                           Title  \\\n",
       "3065               agreement-manager               agreement manager   \n",
       "3066                       agreement                       agreement   \n",
       "3067                       affiliate                       affiliate   \n",
       "3068             adequate-procedures             adequate procedures   \n",
       "3069               act-of-insolvency               act of insolvency   \n",
       "3070                             act                             act   \n",
       "3071                   accounts-date                   accounts date   \n",
       "3072                        accounts                        accounts   \n",
       "3073             academic-supervisor             academic supervisor   \n",
       "3074            academic-publication            academic publication   \n",
       "3075  academic-and-research-purposes  academic and research purposes   \n",
       "3076                     fiscal-year                     fiscal year   \n",
       "\n",
       "                                                    URL  \n",
       "3065  https://www.genieai.co/en-us/define/agreement-...  \n",
       "3066      https://www.genieai.co/en-us/define/agreement  \n",
       "3067      https://www.genieai.co/en-us/define/affiliate  \n",
       "3068  https://www.genieai.co/en-us/define/adequate-p...  \n",
       "3069  https://www.genieai.co/en-us/define/act-of-ins...  \n",
       "3070            https://www.genieai.co/en-us/define/act  \n",
       "3071  https://www.genieai.co/en-us/define/accounts-date  \n",
       "3072       https://www.genieai.co/en-us/define/accounts  \n",
       "3073  https://www.genieai.co/en-us/define/academic-s...  \n",
       "3074  https://www.genieai.co/en-us/define/academic-p...  \n",
       "3075  https://www.genieai.co/en-us/define/academic-a...  \n",
       "3076    https://www.genieai.co/en-us/define/fiscal-year  "
      ]
     },
     "execution_count": 34,
     "metadata": {},
     "output_type": "execute_result"
    }
   ],
   "source": [
    "# We may persuade large DataFrames to show more than just the first/last 5 members\n",
    "defLinks.head(25)\n",
    "defLinks.tail(12)"
   ]
  },
  {
   "cell_type": "markdown",
   "id": "9e422cdb-705a-4521-a7ad-de16ea461dd1",
   "metadata": {},
   "source": [
    "### Working with path"
   ]
  },
  {
   "cell_type": "code",
   "execution_count": 35,
   "id": "c09afc0b-0de7-426d-a620-27220a2cf657",
   "metadata": {},
   "outputs": [],
   "source": [
    "import sys"
   ]
  },
  {
   "cell_type": "code",
   "execution_count": 40,
   "id": "5c12d827-123d-4f98-aefe-aefb4692d214",
   "metadata": {},
   "outputs": [],
   "source": [
    "sys.version_info # info about the current python being used\n",
    "sys.path.append('D:\\\\FrameworkFeb25\\\\.venv\\\\stuffInHere')"
   ]
  },
  {
   "cell_type": "code",
   "execution_count": 41,
   "id": "de1a3345-94db-4c52-9629-3c4ac0fb7ee9",
   "metadata": {},
   "outputs": [
    {
     "data": {
      "text/plain": [
       "['C:\\\\Users\\\\rb17\\\\AppData\\\\Local\\\\Programs\\\\Python\\\\Python313\\\\python313.zip',\n",
       " 'C:\\\\Users\\\\rb17\\\\AppData\\\\Local\\\\Programs\\\\Python\\\\Python313\\\\DLLs',\n",
       " 'C:\\\\Users\\\\rb17\\\\AppData\\\\Local\\\\Programs\\\\Python\\\\Python313\\\\Lib',\n",
       " 'C:\\\\Users\\\\rb17\\\\AppData\\\\Local\\\\Programs\\\\Python\\\\Python313',\n",
       " 'D:\\\\FrameworkFeb25\\\\.venv',\n",
       " '',\n",
       " 'D:\\\\FrameworkFeb25\\\\.venv\\\\Lib\\\\site-packages',\n",
       " 'D:\\\\FrameworkFeb25\\\\.venv\\\\Lib\\\\site-packages\\\\win32',\n",
       " 'D:\\\\FrameworkFeb25\\\\.venv\\\\Lib\\\\site-packages\\\\win32\\\\lib',\n",
       " 'D:\\\\FrameworkFeb25\\\\.venv\\\\Lib\\\\site-packages\\\\Pythonwin',\n",
       " 'D:\\\\FrameworkFeb25\\\\.venv\\\\stuffInHere']"
      ]
     },
     "execution_count": 41,
     "metadata": {},
     "output_type": "execute_result"
    }
   ],
   "source": [
    "sys.path"
   ]
  },
  {
   "cell_type": "code",
   "execution_count": null,
   "id": "e4574490-c923-4f40-b4fb-cac1a5f37500",
   "metadata": {},
   "outputs": [],
   "source": []
  }
 ],
 "metadata": {
  "kernelspec": {
   "display_name": "venv",
   "language": "python",
   "name": "venv"
  },
  "language_info": {
   "codemirror_mode": {
    "name": "ipython",
    "version": 3
   },
   "file_extension": ".py",
   "mimetype": "text/x-python",
   "name": "python",
   "nbconvert_exporter": "python",
   "pygments_lexer": "ipython3",
   "version": "3.13.1"
  }
 },
 "nbformat": 4,
 "nbformat_minor": 5
}
