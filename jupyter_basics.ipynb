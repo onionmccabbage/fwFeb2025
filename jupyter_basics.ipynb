{
 "cells": [
  {
   "cell_type": "markdown",
   "id": "e45ae615-4855-4046-ab40-945d8a7af971",
   "metadata": {},
   "source": [
    "# This is a Heading\n",
    "## sub heading (etc)\n",
    "plain text\n",
    "* bullet\n",
    "* list\n",
    "* items"
   ]
  },
  {
   "cell_type": "code",
   "execution_count": 6,
   "id": "ab3cb126-f306-45d4-9fa3-6a6b8f1df8a5",
   "metadata": {},
   "outputs": [
    {
     "name": "stdout",
     "output_type": "stream",
     "text": [
      "2.433333333333333\n"
     ]
    },
    {
     "data": {
      "text/plain": [
       "0.4109589041095891"
      ]
     },
     "execution_count": 6,
     "metadata": {},
     "output_type": "execute_result"
    }
   ],
   "source": [
    "# There are two kinds of cell\n",
    "# code cells (your actual work)\n",
    "# markdown cells (very noce presentation)\n",
    "a = 3\n",
    "b = 7.3\n",
    "print(b/a)\n",
    "a/b # this last line is represented in the output"
   ]
  },
  {
   "cell_type": "code",
   "execution_count": 11,
   "id": "afdac0ee-f13d-4c2d-abed-2317120b3f94",
   "metadata": {},
   "outputs": [],
   "source": [
    "creatures_t = ( # normally this comes from JSON or API, csv etc.\n",
    "        {'creature':'Albatros', 'count':1,      'cost':120.99},\n",
    "        {'creature':'Bear',     'count':5,      'cost':323.56},\n",
    "        {'creature':'Carp',     'count':120,    'cost':87.00},\n",
    "        {'creature':'Deer',     'count':121,    'cost':12.99},\n",
    "        {'creature':'Elk',      'count':7,      'cost':73.47},\n",
    "    )"
   ]
  },
  {
   "cell_type": "code",
   "execution_count": 17,
   "id": "af94f61d-b43c-420b-b766-6d6512b8a262",
   "metadata": {},
   "outputs": [
    {
     "name": "stdout",
     "output_type": "stream",
     "text": [
      "We have 1 Albatros each costing GBP120.99\n",
      "We have 5 Bear each costing GBP323.56\n",
      "We have 120 Carp each costing GBP87.0\n",
      "We have 121 Deer each costing GBP12.99\n",
      "We have 7 Elk each costing GBP73.47\n"
     ]
    }
   ],
   "source": [
    "# iterate over all the creatures\n",
    "for i in creatures_t:\n",
    "    # add the cost as another bit of the formatted string here\n",
    "    print(f'We have {i[\"count\"]} {i[\"creature\"]} each costing GBP{i[\"cost\"]}')"
   ]
  },
  {
   "cell_type": "code",
   "execution_count": 19,
   "id": "a3355db4-71b8-45df-b719-b6db56c7eb0a",
   "metadata": {},
   "outputs": [
    {
     "data": {
      "text/plain": [
       "5"
      ]
     },
     "execution_count": 19,
     "metadata": {},
     "output_type": "execute_result"
    }
   ],
   "source": [
    "# all ordinal structures have a length\n",
    "len(creatures_t)"
   ]
  },
  {
   "cell_type": "markdown",
   "id": "e67525ca-2447-4768-95b2-7945225fb2ea",
   "metadata": {},
   "source": [
    "### Working With Strings"
   ]
  },
  {
   "cell_type": "code",
   "execution_count": 27,
   "id": "e7d92dbf-634b-47ae-8753-5fa0a9b5a6ca",
   "metadata": {},
   "outputs": [
    {
     "name": "stdout",
     "output_type": "stream",
     "text": [
      "it is 'nearly' \n",
      "the \t end\n"
     ]
    }
   ],
   "source": [
    "# strings may contain control characters for new lines, tabs etc.\n",
    "say = 'it is \\'nearly\\' \\nthe \\t end' # \\n means a new line character\n",
    "print(say)"
   ]
  },
  {
   "cell_type": "code",
   "execution_count": 34,
   "id": "0619440a-3ef2-4ea9-bd9a-95038da5d2cb",
   "metadata": {},
   "outputs": [
    {
     "name": "stdout",
     "output_type": "stream",
     "text": [
      "Carp\n",
      "87.0\n",
      "Carp\n",
      "87.0\n"
     ]
    }
   ],
   "source": [
    "# join text together...\n",
    "print(f'{creatures_t[2][\"creature\"]}\\n{creatures_t[2][\"cost\"]}')\n",
    "# or\n",
    "print(f'''{creatures_t[2][\"creature\"]}\n",
    "{creatures_t[2][\"cost\"]}''')"
   ]
  },
  {
   "cell_type": "code",
   "execution_count": null,
   "id": "291e0335-0769-4cf5-b37d-fba928a373a6",
   "metadata": {},
   "outputs": [],
   "source": []
  }
 ],
 "metadata": {
  "kernelspec": {
   "display_name": "Python 3 (ipykernel)",
   "language": "python",
   "name": "python3"
  },
  "language_info": {
   "codemirror_mode": {
    "name": "ipython",
    "version": 3
   },
   "file_extension": ".py",
   "mimetype": "text/x-python",
   "name": "python",
   "nbconvert_exporter": "python",
   "pygments_lexer": "ipython3",
   "version": "3.13.1"
  }
 },
 "nbformat": 4,
 "nbformat_minor": 5
}
